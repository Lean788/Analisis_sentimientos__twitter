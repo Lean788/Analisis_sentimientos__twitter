{
 "cells": [
  {
   "cell_type": "code",
   "execution_count": 107,
   "metadata": {},
   "outputs": [],
   "source": [
    "import snscrape.modules.twitter as sntwitter\n",
    "import pandas as pd\n",
    "import seaborn as sns\n",
    "import matplotlib.pyplot as plt\n",
    "from sqlalchemy import types as sqltypes, create_engine\n",
    "from langdetect import detect\n",
    "\n",
    "\n",
    "# Scikit-learn\n",
    "from sklearn.model_selection import train_test_split\n",
    "from sklearn.preprocessing import LabelEncoder\n",
    "from sklearn.metrics import confusion_matrix, classification_report, accuracy_score\n",
    "from sklearn.manifold import TSNE\n",
    "from sklearn.feature_extraction.text import TfidfVectorizer\n",
    "\n",
    "# nltk\n",
    "import nltk\n",
    "from nltk.corpus import stopwords\n",
    "from  nltk.stem import SnowballStemmer\n",
    "\n",
    "# Keras\n",
    "from keras.preprocessing.text import Tokenizer\n",
    "from tensorflow.keras.preprocessing.sequence import pad_sequences\n",
    "from keras.models import Sequential\n",
    "from keras.layers import Activation, Dense, Dropout, Embedding, Flatten, Conv1D, MaxPooling1D, LSTM\n",
    "from keras import utils\n",
    "from keras.callbacks import ReduceLROnPlateau, EarlyStopping\n",
    "\n",
    "import re\n",
    "import time\n",
    "import pickle\n",
    "import os\n",
    "from dotenv import load_dotenv\n",
    "\n"
   ]
  },
  {
   "attachments": {},
   "cell_type": "markdown",
   "metadata": {},
   "source": [
    "**1.** Recopilar los tweets donde se mencione la cuenta de @TheBridge_Tech desde el\n",
    "día que comenzaste el bootcamp (21 Noviembre) hasta el último día de clase (7\n",
    "Marzo)."
   ]
  },
  {
   "cell_type": "code",
   "execution_count": 2,
   "metadata": {},
   "outputs": [],
   "source": [
    "tweets = []"
   ]
  },
  {
   "cell_type": "code",
   "execution_count": null,
   "metadata": {},
   "outputs": [],
   "source": [
    "query = \"(@TheBridge_Tech) until:2023-03-07 since:2022-11-21\"\n",
    "\n",
    "for tweet in sntwitter.TwitterSearchScraper(query).get_items():\n",
    "  tweets.append([tweet.id, tweet.content, tweet.date, tweet.user.id, tweet.user.username, tweet.user.displayname, tweet.retweetCount, tweet.replyCount, tweet.likeCount, tweet.quoteCount ])\n",
    "\n",
    "df = pd.DataFrame(tweets, columns=['id', 'content', 'date', 'user_id', 'user_username', 'user_displayname', 'retweetCount', 'replyCount', 'likeCount', 'quoteCount'])\n",
    "df"
   ]
  },
  {
   "cell_type": "code",
   "execution_count": 95,
   "metadata": {},
   "outputs": [
    {
     "data": {
      "text/html": [
       "<div>\n",
       "<style scoped>\n",
       "    .dataframe tbody tr th:only-of-type {\n",
       "        vertical-align: middle;\n",
       "    }\n",
       "\n",
       "    .dataframe tbody tr th {\n",
       "        vertical-align: top;\n",
       "    }\n",
       "\n",
       "    .dataframe thead th {\n",
       "        text-align: right;\n",
       "    }\n",
       "</style>\n",
       "<table border=\"1\" class=\"dataframe\">\n",
       "  <thead>\n",
       "    <tr style=\"text-align: right;\">\n",
       "      <th></th>\n",
       "      <th>id</th>\n",
       "      <th>content</th>\n",
       "      <th>date</th>\n",
       "      <th>user_id</th>\n",
       "      <th>user_username</th>\n",
       "      <th>user_displayname</th>\n",
       "      <th>retweetCount</th>\n",
       "      <th>replyCount</th>\n",
       "      <th>likeCount</th>\n",
       "      <th>quoteCount</th>\n",
       "    </tr>\n",
       "  </thead>\n",
       "  <tbody>\n",
       "    <tr>\n",
       "      <th>0</th>\n",
       "      <td>1632767114380492803</td>\n",
       "      <td>¡Evento #desarrolloweb en #Sevilla con Diego F...</td>\n",
       "      <td>2023-03-06 15:36:30+00:00</td>\n",
       "      <td>1162694149956603904</td>\n",
       "      <td>TheBridge_Tech</td>\n",
       "      <td>The Bridge</td>\n",
       "      <td>3</td>\n",
       "      <td>0</td>\n",
       "      <td>4</td>\n",
       "      <td>0</td>\n",
       "    </tr>\n",
       "    <tr>\n",
       "      <th>1</th>\n",
       "      <td>1632746286133702658</td>\n",
       "      <td>¡Súper contentos de participar! Las temáticas ...</td>\n",
       "      <td>2023-03-06 14:13:44+00:00</td>\n",
       "      <td>1162694149956603904</td>\n",
       "      <td>TheBridge_Tech</td>\n",
       "      <td>The Bridge</td>\n",
       "      <td>1</td>\n",
       "      <td>0</td>\n",
       "      <td>1</td>\n",
       "      <td>0</td>\n",
       "    </tr>\n",
       "    <tr>\n",
       "      <th>2</th>\n",
       "      <td>1632692123412594688</td>\n",
       "      <td>Las inscripciones se realizarán por Eventbrite...</td>\n",
       "      <td>2023-03-06 10:38:30+00:00</td>\n",
       "      <td>1585726199485140993</td>\n",
       "      <td>ESOLIUPO</td>\n",
       "      <td>Asociación de Estudiantes de Software Libre UPO</td>\n",
       "      <td>0</td>\n",
       "      <td>0</td>\n",
       "      <td>0</td>\n",
       "      <td>0</td>\n",
       "    </tr>\n",
       "    <tr>\n",
       "      <th>3</th>\n",
       "      <td>1632692120719859712</td>\n",
       "      <td>¡Por fin podemos publicar el cartel con los po...</td>\n",
       "      <td>2023-03-06 10:38:30+00:00</td>\n",
       "      <td>1585726199485140993</td>\n",
       "      <td>ESOLIUPO</td>\n",
       "      <td>Asociación de Estudiantes de Software Libre UPO</td>\n",
       "      <td>3</td>\n",
       "      <td>1</td>\n",
       "      <td>5</td>\n",
       "      <td>1</td>\n",
       "    </tr>\n",
       "    <tr>\n",
       "      <th>4</th>\n",
       "      <td>1632664546665025536</td>\n",
       "      <td>Encuentro de la @mlopscommunity en Madrid: \"ML...</td>\n",
       "      <td>2023-03-06 08:48:56+00:00</td>\n",
       "      <td>41545659</td>\n",
       "      <td>nodosenlared</td>\n",
       "      <td>Mario Lopez de Avila</td>\n",
       "      <td>1</td>\n",
       "      <td>0</td>\n",
       "      <td>3</td>\n",
       "      <td>0</td>\n",
       "    </tr>\n",
       "  </tbody>\n",
       "</table>\n",
       "</div>"
      ],
      "text/plain": [
       "                    id                                            content  \\\n",
       "0  1632767114380492803  ¡Evento #desarrolloweb en #Sevilla con Diego F...   \n",
       "1  1632746286133702658  ¡Súper contentos de participar! Las temáticas ...   \n",
       "2  1632692123412594688  Las inscripciones se realizarán por Eventbrite...   \n",
       "3  1632692120719859712  ¡Por fin podemos publicar el cartel con los po...   \n",
       "4  1632664546665025536  Encuentro de la @mlopscommunity en Madrid: \"ML...   \n",
       "\n",
       "                        date              user_id   user_username  \\\n",
       "0  2023-03-06 15:36:30+00:00  1162694149956603904  TheBridge_Tech   \n",
       "1  2023-03-06 14:13:44+00:00  1162694149956603904  TheBridge_Tech   \n",
       "2  2023-03-06 10:38:30+00:00  1585726199485140993        ESOLIUPO   \n",
       "3  2023-03-06 10:38:30+00:00  1585726199485140993        ESOLIUPO   \n",
       "4  2023-03-06 08:48:56+00:00             41545659    nodosenlared   \n",
       "\n",
       "                                  user_displayname  retweetCount  replyCount  \\\n",
       "0                                       The Bridge             3           0   \n",
       "1                                       The Bridge             1           0   \n",
       "2  Asociación de Estudiantes de Software Libre UPO             0           0   \n",
       "3  Asociación de Estudiantes de Software Libre UPO             3           1   \n",
       "4                             Mario Lopez de Avila             1           0   \n",
       "\n",
       "   likeCount  quoteCount  \n",
       "0          4           0  \n",
       "1          1           0  \n",
       "2          0           0  \n",
       "3          5           1  \n",
       "4          3           0  "
      ]
     },
     "execution_count": 95,
     "metadata": {},
     "output_type": "execute_result"
    }
   ],
   "source": [
    "df = pd.read_csv('./data/tweets.csv')\n",
    "df.head()"
   ]
  },
  {
   "attachments": {},
   "cell_type": "markdown",
   "metadata": {},
   "source": [
    "- Ya disponemos de la base de datos, procedemos a realizar la división de la misma y breve análisis para saber su composición y si está en condiciones de ser analizada o debe pasar por prepocesamiento de datos."
   ]
  },
  {
   "cell_type": "code",
   "execution_count": 4,
   "metadata": {},
   "outputs": [
    {
     "name": "stdout",
     "output_type": "stream",
     "text": [
      "<class 'pandas.core.frame.DataFrame'>\n",
      "RangeIndex: 175 entries, 0 to 174\n",
      "Data columns (total 10 columns):\n",
      " #   Column            Non-Null Count  Dtype              \n",
      "---  ------            --------------  -----              \n",
      " 0   id                175 non-null    int64              \n",
      " 1   content           175 non-null    object             \n",
      " 2   date              175 non-null    datetime64[ns, UTC]\n",
      " 3   user_id           175 non-null    int64              \n",
      " 4   user_username     175 non-null    object             \n",
      " 5   user_displayname  175 non-null    object             \n",
      " 6   retweetCount      175 non-null    int64              \n",
      " 7   replyCount        175 non-null    int64              \n",
      " 8   likeCount         175 non-null    int64              \n",
      " 9   quoteCount        175 non-null    int64              \n",
      "dtypes: datetime64[ns, UTC](1), int64(6), object(3)\n",
      "memory usage: 13.8+ KB\n"
     ]
    }
   ],
   "source": [
    "df.info()"
   ]
  },
  {
   "cell_type": "code",
   "execution_count": 5,
   "metadata": {},
   "outputs": [
    {
     "data": {
      "text/html": [
       "<div>\n",
       "<style scoped>\n",
       "    .dataframe tbody tr th:only-of-type {\n",
       "        vertical-align: middle;\n",
       "    }\n",
       "\n",
       "    .dataframe tbody tr th {\n",
       "        vertical-align: top;\n",
       "    }\n",
       "\n",
       "    .dataframe thead th {\n",
       "        text-align: right;\n",
       "    }\n",
       "</style>\n",
       "<table border=\"1\" class=\"dataframe\">\n",
       "  <thead>\n",
       "    <tr style=\"text-align: right;\">\n",
       "      <th></th>\n",
       "      <th>id</th>\n",
       "      <th>user_id</th>\n",
       "      <th>retweetCount</th>\n",
       "      <th>replyCount</th>\n",
       "      <th>likeCount</th>\n",
       "      <th>quoteCount</th>\n",
       "    </tr>\n",
       "  </thead>\n",
       "  <tbody>\n",
       "    <tr>\n",
       "      <th>count</th>\n",
       "      <td>1.750000e+02</td>\n",
       "      <td>1.750000e+02</td>\n",
       "      <td>175.000000</td>\n",
       "      <td>175.000000</td>\n",
       "      <td>175.000000</td>\n",
       "      <td>175.000000</td>\n",
       "    </tr>\n",
       "    <tr>\n",
       "      <th>mean</th>\n",
       "      <td>1.612209e+18</td>\n",
       "      <td>6.209114e+17</td>\n",
       "      <td>1.640000</td>\n",
       "      <td>0.262857</td>\n",
       "      <td>5.005714</td>\n",
       "      <td>0.137143</td>\n",
       "    </tr>\n",
       "    <tr>\n",
       "      <th>std</th>\n",
       "      <td>1.112227e+16</td>\n",
       "      <td>5.725346e+17</td>\n",
       "      <td>3.927738</td>\n",
       "      <td>0.726781</td>\n",
       "      <td>24.356192</td>\n",
       "      <td>0.495431</td>\n",
       "    </tr>\n",
       "    <tr>\n",
       "      <th>min</th>\n",
       "      <td>1.594964e+18</td>\n",
       "      <td>7.154412e+06</td>\n",
       "      <td>0.000000</td>\n",
       "      <td>0.000000</td>\n",
       "      <td>0.000000</td>\n",
       "      <td>0.000000</td>\n",
       "    </tr>\n",
       "    <tr>\n",
       "      <th>25%</th>\n",
       "      <td>1.599950e+18</td>\n",
       "      <td>8.152352e+08</td>\n",
       "      <td>0.000000</td>\n",
       "      <td>0.000000</td>\n",
       "      <td>1.000000</td>\n",
       "      <td>0.000000</td>\n",
       "    </tr>\n",
       "    <tr>\n",
       "      <th>50%</th>\n",
       "      <td>1.614612e+18</td>\n",
       "      <td>7.020774e+17</td>\n",
       "      <td>1.000000</td>\n",
       "      <td>0.000000</td>\n",
       "      <td>2.000000</td>\n",
       "      <td>0.000000</td>\n",
       "    </tr>\n",
       "    <tr>\n",
       "      <th>75%</th>\n",
       "      <td>1.619841e+18</td>\n",
       "      <td>1.162694e+18</td>\n",
       "      <td>2.000000</td>\n",
       "      <td>0.000000</td>\n",
       "      <td>4.000000</td>\n",
       "      <td>0.000000</td>\n",
       "    </tr>\n",
       "    <tr>\n",
       "      <th>max</th>\n",
       "      <td>1.632767e+18</td>\n",
       "      <td>1.610074e+18</td>\n",
       "      <td>49.000000</td>\n",
       "      <td>7.000000</td>\n",
       "      <td>322.000000</td>\n",
       "      <td>4.000000</td>\n",
       "    </tr>\n",
       "  </tbody>\n",
       "</table>\n",
       "</div>"
      ],
      "text/plain": [
       "                 id       user_id  retweetCount  replyCount   likeCount  \\\n",
       "count  1.750000e+02  1.750000e+02    175.000000  175.000000  175.000000   \n",
       "mean   1.612209e+18  6.209114e+17      1.640000    0.262857    5.005714   \n",
       "std    1.112227e+16  5.725346e+17      3.927738    0.726781   24.356192   \n",
       "min    1.594964e+18  7.154412e+06      0.000000    0.000000    0.000000   \n",
       "25%    1.599950e+18  8.152352e+08      0.000000    0.000000    1.000000   \n",
       "50%    1.614612e+18  7.020774e+17      1.000000    0.000000    2.000000   \n",
       "75%    1.619841e+18  1.162694e+18      2.000000    0.000000    4.000000   \n",
       "max    1.632767e+18  1.610074e+18     49.000000    7.000000  322.000000   \n",
       "\n",
       "       quoteCount  \n",
       "count  175.000000  \n",
       "mean     0.137143  \n",
       "std      0.495431  \n",
       "min      0.000000  \n",
       "25%      0.000000  \n",
       "50%      0.000000  \n",
       "75%      0.000000  \n",
       "max      4.000000  "
      ]
     },
     "execution_count": 5,
     "metadata": {},
     "output_type": "execute_result"
    }
   ],
   "source": [
    "df.describe()"
   ]
  },
  {
   "cell_type": "code",
   "execution_count": 6,
   "metadata": {},
   "outputs": [
    {
     "data": {
      "text/plain": [
       "id                  0\n",
       "content             0\n",
       "date                0\n",
       "user_id             0\n",
       "user_username       0\n",
       "user_displayname    0\n",
       "retweetCount        0\n",
       "replyCount          0\n",
       "likeCount           0\n",
       "quoteCount          0\n",
       "dtype: int64"
      ]
     },
     "execution_count": 6,
     "metadata": {},
     "output_type": "execute_result"
    }
   ],
   "source": [
    "df.isnull().sum()"
   ]
  },
  {
   "cell_type": "code",
   "execution_count": 22,
   "metadata": {},
   "outputs": [],
   "source": [
    "df.to_csv('./data/tweets.csv', encoding='utf-8', index=False)"
   ]
  },
  {
   "attachments": {},
   "cell_type": "markdown",
   "metadata": {},
   "source": [
    "**2.** Almacenarlos en una base de datos SQL desplegada en AWS en 2 tablas\n",
    "normalizadas: (tweets, usuarios)"
   ]
  },
  {
   "attachments": {},
   "cell_type": "markdown",
   "metadata": {},
   "source": [
    "primero dividimos el df en las dos tablas requeridas:"
   ]
  },
  {
   "cell_type": "code",
   "execution_count": 7,
   "metadata": {},
   "outputs": [
    {
     "data": {
      "text/plain": [
       "Index(['id', 'content', 'date', 'user_id', 'user_username', 'user_displayname',\n",
       "       'retweetCount', 'replyCount', 'likeCount', 'quoteCount'],\n",
       "      dtype='object')"
      ]
     },
     "execution_count": 7,
     "metadata": {},
     "output_type": "execute_result"
    }
   ],
   "source": [
    "df.columns"
   ]
  },
  {
   "cell_type": "code",
   "execution_count": 8,
   "metadata": {},
   "outputs": [],
   "source": [
    "usuarios = df[['user_id', 'user_username', 'user_displayname']]\n",
    "tweets = df[['id','user_id', 'content', 'date','retweetCount', 'replyCount', 'likeCount', 'quoteCount']]"
   ]
  },
  {
   "cell_type": "code",
   "execution_count": null,
   "metadata": {},
   "outputs": [],
   "source": [
    "# carga las variables de entorno desde el archivo .env\n",
    "load_dotenv()\n",
    "\n",
    "username = os.getenv('USERNAME_DB')\n",
    "password = os.getenv('PASSWORD')\n",
    "host = os.getenv('HOST')\n",
    "port = int(os.getenv('PORT'))\n",
    "database = \"tweets_thebridge\""
   ]
  },
  {
   "cell_type": "code",
   "execution_count": 62,
   "metadata": {},
   "outputs": [],
   "source": [
    "# carga las variables de entorno desde el archivo .env\n",
    "load_dotenv()\n",
    "# Lee las credenciales de la base de datos del archivo .env\n",
    "DB_USER = os.getenv('DB_USER')\n",
    "DB_PASSWORD = os.getenv('DB_PASSWORD')\n",
    "DB_HOST = os.getenv('DB_HOST')\n",
    "DB_PORT = os.getenv('DB_PORT')\n",
    "DB_NAME = 'tweets_thebridge'"
   ]
  },
  {
   "cell_type": "code",
   "execution_count": 63,
   "metadata": {},
   "outputs": [],
   "source": [
    "# Crea la URL de conexión a la base de datos\n",
    "db_url = f\"mysql://{DB_USER}:{DB_PASSWORD}@{DB_HOST}:{DB_PORT}/{DB_NAME}\""
   ]
  },
  {
   "cell_type": "code",
   "execution_count": 65,
   "metadata": {},
   "outputs": [],
   "source": [
    "# Crea el motor de la base de datos utilizando la URL de conexión\n",
    "engine = create_engine(db_url)"
   ]
  },
  {
   "cell_type": "code",
   "execution_count": 66,
   "metadata": {},
   "outputs": [
    {
     "data": {
      "text/plain": [
       "175"
      ]
     },
     "execution_count": 66,
     "metadata": {},
     "output_type": "execute_result"
    }
   ],
   "source": [
    "tweets.to_sql('tweets', con=engine, if_exists='replace', index=False)\n",
    "usuarios.to_sql('usuarios', con=engine, if_exists='replace', index=False)"
   ]
  },
  {
   "attachments": {},
   "cell_type": "markdown",
   "metadata": {},
   "source": [
    "--------------------------------------------------------------------"
   ]
  },
  {
   "attachments": {},
   "cell_type": "markdown",
   "metadata": {},
   "source": [
    "**3.** Realizar un pequeño **análisis** donde se respondan a las siguientes preguntas de\n",
    "negocio:\n",
    "\n",
    "a. *¿Cuál es el tweet con mayor repercusión social?* \n",
    "\n",
    "b. *¿Cuál es el usuario que más menciona a la escuela?*\n",
    "\n",
    "c. *¿En qué mes se concentra el mayor número de tweets?*\n",
    "\n",
    "d. *¿Qué palabras son más frecuentes?*\n",
    "\n",
    "e. *¿Qué tipo de correlación matemática encuentras entre las métricas públicas?*\n",
    "\n",
    "f. *¿Has sacado alguna conclusión extra en tu análisis?*"
   ]
  },
  {
   "cell_type": "code",
   "execution_count": 96,
   "metadata": {},
   "outputs": [
    {
     "data": {
      "text/html": [
       "<div>\n",
       "<style scoped>\n",
       "    .dataframe tbody tr th:only-of-type {\n",
       "        vertical-align: middle;\n",
       "    }\n",
       "\n",
       "    .dataframe tbody tr th {\n",
       "        vertical-align: top;\n",
       "    }\n",
       "\n",
       "    .dataframe thead th {\n",
       "        text-align: right;\n",
       "    }\n",
       "</style>\n",
       "<table border=\"1\" class=\"dataframe\">\n",
       "  <thead>\n",
       "    <tr style=\"text-align: right;\">\n",
       "      <th></th>\n",
       "      <th>id</th>\n",
       "      <th>content</th>\n",
       "      <th>date</th>\n",
       "      <th>user_id</th>\n",
       "      <th>user_username</th>\n",
       "      <th>user_displayname</th>\n",
       "      <th>retweetCount</th>\n",
       "      <th>replyCount</th>\n",
       "      <th>likeCount</th>\n",
       "      <th>quoteCount</th>\n",
       "    </tr>\n",
       "  </thead>\n",
       "  <tbody>\n",
       "    <tr>\n",
       "      <th>0</th>\n",
       "      <td>1632767114380492803</td>\n",
       "      <td>¡Evento #desarrolloweb en #Sevilla con Diego Freniche Brito, Developer Advocate en @MongoDB!\\n\\nCambiamos de ubicación ¡Te esperamos en @espacio_RES!\\n\\n📅16 marzo\\n⏰18 h\\n📍En @espacio_RES \\n\\nEntradas 👉https://t.co/MJ21xSfIX0 https://t.co/bYJuYAaZ6N</td>\n",
       "      <td>2023-03-06 15:36:30+00:00</td>\n",
       "      <td>1162694149956603904</td>\n",
       "      <td>TheBridge_Tech</td>\n",
       "      <td>The Bridge</td>\n",
       "      <td>3</td>\n",
       "      <td>0</td>\n",
       "      <td>4</td>\n",
       "      <td>0</td>\n",
       "    </tr>\n",
       "    <tr>\n",
       "      <th>1</th>\n",
       "      <td>1632746286133702658</td>\n",
       "      <td>¡Súper contentos de participar! Las temáticas prometen, sin duda 🤩 ¡No te lo pierdas! \\n\\n📍Universidad @pablodeolavide Sevilla\\n🎟Entradas https://t.co/jFvxqPvKTO</td>\n",
       "      <td>2023-03-06 14:13:44+00:00</td>\n",
       "      <td>1162694149956603904</td>\n",
       "      <td>TheBridge_Tech</td>\n",
       "      <td>The Bridge</td>\n",
       "      <td>1</td>\n",
       "      <td>0</td>\n",
       "      <td>1</td>\n",
       "      <td>0</td>\n",
       "    </tr>\n",
       "    <tr>\n",
       "      <th>2</th>\n",
       "      <td>1632692123412594688</td>\n",
       "      <td>Las inscripciones se realizarán por Eventbrite. Cualquier duda estamos por MD o al correo info@esoliupo.es\\nhttps://t.co/xhVr7VXcF3\\n\\n@epsUPO @TheBridge_Tech</td>\n",
       "      <td>2023-03-06 10:38:30+00:00</td>\n",
       "      <td>1585726199485140993</td>\n",
       "      <td>ESOLIUPO</td>\n",
       "      <td>Asociación de Estudiantes de Software Libre UPO</td>\n",
       "      <td>0</td>\n",
       "      <td>0</td>\n",
       "      <td>0</td>\n",
       "      <td>0</td>\n",
       "    </tr>\n",
       "    <tr>\n",
       "      <th>3</th>\n",
       "      <td>1632692120719859712</td>\n",
       "      <td>¡Por fin podemos publicar el cartel con los ponentes para el #cybersecTalks! Si estás interesadx en alguna de las temáticas que aparecen no dudes en venir, es totalmente gratuito gracias al patrocinio de @TheBridge_Tech y la colaboración de @epsUPO @pablodeolavide \\n(+ info abajo) https://t.co/JF85MDGmXc</td>\n",
       "      <td>2023-03-06 10:38:30+00:00</td>\n",
       "      <td>1585726199485140993</td>\n",
       "      <td>ESOLIUPO</td>\n",
       "      <td>Asociación de Estudiantes de Software Libre UPO</td>\n",
       "      <td>3</td>\n",
       "      <td>1</td>\n",
       "      <td>5</td>\n",
       "      <td>1</td>\n",
       "    </tr>\n",
       "    <tr>\n",
       "      <th>4</th>\n",
       "      <td>1632664546665025536</td>\n",
       "      <td>Encuentro de la @mlopscommunity en Madrid: \"MLOPs: desde las trincheras\" https://t.co/CHojEAs7ij en @TheBridge_Tech Ven a conocer la práctica #MLOps en Correcto., @Busuu @wallapop https://t.co/odie5CAuHU</td>\n",
       "      <td>2023-03-06 08:48:56+00:00</td>\n",
       "      <td>41545659</td>\n",
       "      <td>nodosenlared</td>\n",
       "      <td>Mario Lopez de Avila</td>\n",
       "      <td>1</td>\n",
       "      <td>0</td>\n",
       "      <td>3</td>\n",
       "      <td>0</td>\n",
       "    </tr>\n",
       "  </tbody>\n",
       "</table>\n",
       "</div>"
      ],
      "text/plain": [
       "                    id  \\\n",
       "0  1632767114380492803   \n",
       "1  1632746286133702658   \n",
       "2  1632692123412594688   \n",
       "3  1632692120719859712   \n",
       "4  1632664546665025536   \n",
       "\n",
       "                                                                                                                                                                                                                                                                                                             content  \\\n",
       "0                                                          ¡Evento #desarrolloweb en #Sevilla con Diego Freniche Brito, Developer Advocate en @MongoDB!\\n\\nCambiamos de ubicación ¡Te esperamos en @espacio_RES!\\n\\n📅16 marzo\\n⏰18 h\\n📍En @espacio_RES \\n\\nEntradas 👉https://t.co/MJ21xSfIX0 https://t.co/bYJuYAaZ6N   \n",
       "1                                                                                                                                                  ¡Súper contentos de participar! Las temáticas prometen, sin duda 🤩 ¡No te lo pierdas! \\n\\n📍Universidad @pablodeolavide Sevilla\\n🎟Entradas https://t.co/jFvxqPvKTO   \n",
       "2                                                                                                                                                     Las inscripciones se realizarán por Eventbrite. Cualquier duda estamos por MD o al correo info@esoliupo.es\\nhttps://t.co/xhVr7VXcF3\\n\\n@epsUPO @TheBridge_Tech   \n",
       "3  ¡Por fin podemos publicar el cartel con los ponentes para el #cybersecTalks! Si estás interesadx en alguna de las temáticas que aparecen no dudes en venir, es totalmente gratuito gracias al patrocinio de @TheBridge_Tech y la colaboración de @epsUPO @pablodeolavide \\n(+ info abajo) https://t.co/JF85MDGmXc   \n",
       "4                                                                                                        Encuentro de la @mlopscommunity en Madrid: \"MLOPs: desde las trincheras\" https://t.co/CHojEAs7ij en @TheBridge_Tech Ven a conocer la práctica #MLOps en Correcto., @Busuu @wallapop https://t.co/odie5CAuHU   \n",
       "\n",
       "                        date              user_id   user_username  \\\n",
       "0  2023-03-06 15:36:30+00:00  1162694149956603904  TheBridge_Tech   \n",
       "1  2023-03-06 14:13:44+00:00  1162694149956603904  TheBridge_Tech   \n",
       "2  2023-03-06 10:38:30+00:00  1585726199485140993        ESOLIUPO   \n",
       "3  2023-03-06 10:38:30+00:00  1585726199485140993        ESOLIUPO   \n",
       "4  2023-03-06 08:48:56+00:00             41545659    nodosenlared   \n",
       "\n",
       "                                  user_displayname  retweetCount  replyCount  \\\n",
       "0                                       The Bridge             3           0   \n",
       "1                                       The Bridge             1           0   \n",
       "2  Asociación de Estudiantes de Software Libre UPO             0           0   \n",
       "3  Asociación de Estudiantes de Software Libre UPO             3           1   \n",
       "4                             Mario Lopez de Avila             1           0   \n",
       "\n",
       "   likeCount  quoteCount  \n",
       "0          4           0  \n",
       "1          1           0  \n",
       "2          0           0  \n",
       "3          5           1  \n",
       "4          3           0  "
      ]
     },
     "execution_count": 96,
     "metadata": {},
     "output_type": "execute_result"
    }
   ],
   "source": [
    "pd.set_option('max_colwidth', None)\n",
    "df.head()"
   ]
  },
  {
   "attachments": {},
   "cell_type": "markdown",
   "metadata": {},
   "source": [
    "a. *`¿Cuál es el tweet con mayor repercusión social?`* \n",
    "\n",
    "Para responder esta pregunta, calculo la suma de las columnas retweetCount, replyCount, likeCount y quoteCount y luego elijo el tweet con la mayor suma. "
   ]
  },
  {
   "cell_type": "code",
   "execution_count": 97,
   "metadata": {},
   "outputs": [
    {
     "name": "stdout",
     "output_type": "stream",
     "text": [
      "El tweet con mayor repercusión social ha sido: Advanced #Cynefin, Estuarine mapping &amp; EUFG Masterclass (Madrid) https://t.co/H5ZSjbKHAr | Los interesados en la aplicación de las ciencias de la complejidad en nuestro país tendremos la oportunidad de aprender de @snowded en persona el 16/3/23 en la sede de @TheBridge_Tech https://t.co/LavCfgYIht\n"
     ]
    }
   ],
   "source": [
    "df['totalInteracciones'] = df['retweetCount'] + df['replyCount'] + df['likeCount'] + df['quoteCount']\n",
    "\n",
    "max_tweet = df.loc[df['totalInteracciones'].idxmax()]\n",
    "\n",
    "print('El tweet con mayor repercusión social ha sido:',max_tweet['content'])"
   ]
  },
  {
   "attachments": {},
   "cell_type": "markdown",
   "metadata": {},
   "source": [
    "b. *`¿Cuál es el usuario que más menciona a la escuela?`*\n",
    "\n",
    "Lo que haré aquí es filtrar el dataframe por tweets que mencionen a la escuela y luego contar cuántas veces aparece cada usuario en el dataframe filtrado."
   ]
  },
  {
   "cell_type": "code",
   "execution_count": 99,
   "metadata": {},
   "outputs": [],
   "source": [
    "df_mentions = df[df['content'].str.contains('@TheBridge_Tech', case=False)]"
   ]
  },
  {
   "cell_type": "code",
   "execution_count": 101,
   "metadata": {},
   "outputs": [
    {
     "data": {
      "text/plain": [
       "BBK_eus           22\n",
       "jorgegrev         11\n",
       "TheBridge_Tech     7\n",
       "Name: user_username, dtype: int64"
      ]
     },
     "execution_count": 101,
     "metadata": {},
     "output_type": "execute_result"
    }
   ],
   "source": [
    "# Contar el número de tweets por usuario y ordenar de mayor a menor\n",
    "users_mentions = df_mentions['user_username'].value_counts().sort_values(ascending=False)\n",
    "users_mentions.head(3)"
   ]
  },
  {
   "attachments": {},
   "cell_type": "markdown",
   "metadata": {},
   "source": [
    "- aquí podemos ver los 3 primeros, siendo la cuenta de **BBK_eus**, con 22 menciones en la franja de edad estipulada."
   ]
  },
  {
   "attachments": {},
   "cell_type": "markdown",
   "metadata": {},
   "source": [
    "c. *`¿En qué mes se concentra el mayor número de tweets?`*\n",
    "\n",
    "Se creará una nueva columna en el df que contenga el mes de cada tweet y luego contar cuántos tweets hay por mes."
   ]
  },
  {
   "cell_type": "code",
   "execution_count": 102,
   "metadata": {},
   "outputs": [
    {
     "name": "stderr",
     "output_type": "stream",
     "text": [
      "C:\\Users\\Leandro\\AppData\\Local\\Temp\\ipykernel_16980\\1863463909.py:1: UserWarning: Converting to PeriodArray/Index representation will drop timezone information.\n",
      "  df['mes'] = pd.to_datetime(df['date']).dt.to_period('M')\n"
     ]
    },
    {
     "data": {
      "text/plain": [
       "0    2023-03\n",
       "1    2023-03\n",
       "2    2023-03\n",
       "3    2023-03\n",
       "4    2023-03\n",
       "Name: mes, dtype: period[M]"
      ]
     },
     "execution_count": 102,
     "metadata": {},
     "output_type": "execute_result"
    }
   ],
   "source": [
    "df['mes'] = pd.to_datetime(df['date']).dt.to_period('M')\n",
    "df['mes'].head()"
   ]
  },
  {
   "cell_type": "code",
   "execution_count": 104,
   "metadata": {},
   "outputs": [
    {
     "data": {
      "text/plain": [
       "2023-01    67\n",
       "2022-12    34\n",
       "2022-11    33\n",
       "2023-02    27\n",
       "2023-03    14\n",
       "Freq: M, Name: mes, dtype: int64"
      ]
     },
     "execution_count": 104,
     "metadata": {},
     "output_type": "execute_result"
    }
   ],
   "source": [
    "tweets_per_month = df['mes'].value_counts().sort_values(ascending=False)\n",
    "tweets_per_month.head()"
   ]
  },
  {
   "attachments": {},
   "cell_type": "markdown",
   "metadata": {},
   "source": [
    "- Podemos apreciar que en **enero** del presente año, fue el momento de mayor número de tweets."
   ]
  },
  {
   "attachments": {},
   "cell_type": "markdown",
   "metadata": {},
   "source": [
    "d. *`¿Qué palabras son más frecuentes?`*\n",
    "\n",
    "Creando una lista con todas las palabras en los tweets, eliminando las palabras vacías (stopwords), y luego contar cuántas veces aparece cada palabra en la lista, podemos conseguirlo. Las palabras con mayor frecuencia será la que buscamos."
   ]
  },
  {
   "cell_type": "code",
   "execution_count": 105,
   "metadata": {},
   "outputs": [
    {
     "data": {
      "text/plain": [
       "@thebridge_tech    120\n",
       "#bbkbootcamps       27\n",
       "@bbk_eus            27\n",
       "dtype: int64"
      ]
     },
     "execution_count": 105,
     "metadata": {},
     "output_type": "execute_result"
    }
   ],
   "source": [
    "stop_words = set(stopwords.words('spanish'))\n",
    "\n",
    "all_words = []\n",
    "for tweet in df['content']:\n",
    "    for word in tweet.split():\n",
    "        if word.lower() not in stop_words:\n",
    "            all_words.append(word.lower())\n",
    "\n",
    "word_counts = pd.Series(all_words).value_counts().sort_values(ascending=False)\n",
    "word_counts.head(3)"
   ]
  },
  {
   "attachments": {},
   "cell_type": "markdown",
   "metadata": {},
   "source": [
    "- como podemos ver, las menciones y los hashtag son las palabras que más se repiten, por otro lado también tiene sentido, dado que es la 'etiqueta' que se le pone a cada tweet."
   ]
  },
  {
   "attachments": {},
   "cell_type": "markdown",
   "metadata": {},
   "source": [
    "e. *`¿Qué tipo de correlación matemática encuentras entre las métricas públicas?`*\n",
    "\n",
    "Usaremos la función de seaborn de correlación de Pearson:"
   ]
  },
  {
   "cell_type": "code",
   "execution_count": 108,
   "metadata": {},
   "outputs": [
    {
     "name": "stderr",
     "output_type": "stream",
     "text": [
      "C:\\Users\\Leandro\\AppData\\Local\\Temp\\ipykernel_16980\\567930202.py:1: FutureWarning: The default value of numeric_only in DataFrame.corr is deprecated. In a future version, it will default to False. Select only valid columns or specify the value of numeric_only to silence this warning.\n",
      "  sns.heatmap(df.corr(), annot=True);\n"
     ]
    },
    {
     "data": {
      "image/png": "[encoded data removed]",
      "text/plain": [
       "<Figure size 640x480 with 2 Axes>"
      ]
     },
     "metadata": {},
     "output_type": "display_data"
    }
   ],
   "source": [
    "sns.heatmap(df.corr(), annot=True);\n",
    "plt.title('Matriz de correlación');"
   ]
  },
  {
   "attachments": {},
   "cell_type": "markdown",
   "metadata": {},
   "source": [
    "Vemos varias relaciones fuertes:\n",
    "\n",
    "- `likeCount` con `retweetCount` y `totalInteracciones`. Prácticamente se puede decir que si un tweet te ha gustado, lo vas a retweetear.\n",
    "- `Retweet` con `reply`. Las respuestas y retweets implican comunicación y difusión de algo que para el usuario ha sido de interés.\n",
    "- Podemos ver que la columna `quoteCount` y `replyCount` guardan una relación moderadamente fuerte, que por otra parte tiene sentido, ya que una es las veces que se contesta a un tweet, mientras que quoteCount es la cantidad de veces que se ha citado o retuiteado un tweet con un comentario y quizás no en todos los casos tenga que estar relacionado. \n",
    "\n",
    "\n"
   ]
  },
  {
   "cell_type": "code",
   "execution_count": 109,
   "metadata": {},
   "outputs": [
    {
     "data": {
      "text/html": [
       "<div>\n",
       "<style scoped>\n",
       "    .dataframe tbody tr th:only-of-type {\n",
       "        vertical-align: middle;\n",
       "    }\n",
       "\n",
       "    .dataframe tbody tr th {\n",
       "        vertical-align: top;\n",
       "    }\n",
       "\n",
       "    .dataframe thead th {\n",
       "        text-align: right;\n",
       "    }\n",
       "</style>\n",
       "<table border=\"1\" class=\"dataframe\">\n",
       "  <thead>\n",
       "    <tr style=\"text-align: right;\">\n",
       "      <th></th>\n",
       "      <th>id</th>\n",
       "      <th>content</th>\n",
       "      <th>date</th>\n",
       "      <th>user_id</th>\n",
       "      <th>user_username</th>\n",
       "      <th>user_displayname</th>\n",
       "      <th>retweetCount</th>\n",
       "      <th>replyCount</th>\n",
       "      <th>likeCount</th>\n",
       "      <th>quoteCount</th>\n",
       "      <th>totalInteracciones</th>\n",
       "      <th>mes</th>\n",
       "    </tr>\n",
       "  </thead>\n",
       "  <tbody>\n",
       "    <tr>\n",
       "      <th>0</th>\n",
       "      <td>1632767114380492803</td>\n",
       "      <td>¡Evento #desarrolloweb en #Sevilla con Diego Freniche Brito, Developer Advocate en @MongoDB!\\n\\nCambiamos de ubicación ¡Te esperamos en @espacio_RES!\\n\\n📅16 marzo\\n⏰18 h\\n📍En @espacio_RES \\n\\nEntradas 👉https://t.co/MJ21xSfIX0 https://t.co/bYJuYAaZ6N</td>\n",
       "      <td>2023-03-06 15:36:30+00:00</td>\n",
       "      <td>1162694149956603904</td>\n",
       "      <td>TheBridge_Tech</td>\n",
       "      <td>The Bridge</td>\n",
       "      <td>3</td>\n",
       "      <td>0</td>\n",
       "      <td>4</td>\n",
       "      <td>0</td>\n",
       "      <td>7</td>\n",
       "      <td>2023-03</td>\n",
       "    </tr>\n",
       "    <tr>\n",
       "      <th>1</th>\n",
       "      <td>1632746286133702658</td>\n",
       "      <td>¡Súper contentos de participar! Las temáticas prometen, sin duda 🤩 ¡No te lo pierdas! \\n\\n📍Universidad @pablodeolavide Sevilla\\n🎟Entradas https://t.co/jFvxqPvKTO</td>\n",
       "      <td>2023-03-06 14:13:44+00:00</td>\n",
       "      <td>1162694149956603904</td>\n",
       "      <td>TheBridge_Tech</td>\n",
       "      <td>The Bridge</td>\n",
       "      <td>1</td>\n",
       "      <td>0</td>\n",
       "      <td>1</td>\n",
       "      <td>0</td>\n",
       "      <td>2</td>\n",
       "      <td>2023-03</td>\n",
       "    </tr>\n",
       "    <tr>\n",
       "      <th>2</th>\n",
       "      <td>1632692123412594688</td>\n",
       "      <td>Las inscripciones se realizarán por Eventbrite. Cualquier duda estamos por MD o al correo info@esoliupo.es\\nhttps://t.co/xhVr7VXcF3\\n\\n@epsUPO @TheBridge_Tech</td>\n",
       "      <td>2023-03-06 10:38:30+00:00</td>\n",
       "      <td>1585726199485140993</td>\n",
       "      <td>ESOLIUPO</td>\n",
       "      <td>Asociación de Estudiantes de Software Libre UPO</td>\n",
       "      <td>0</td>\n",
       "      <td>0</td>\n",
       "      <td>0</td>\n",
       "      <td>0</td>\n",
       "      <td>0</td>\n",
       "      <td>2023-03</td>\n",
       "    </tr>\n",
       "    <tr>\n",
       "      <th>3</th>\n",
       "      <td>1632692120719859712</td>\n",
       "      <td>¡Por fin podemos publicar el cartel con los ponentes para el #cybersecTalks! Si estás interesadx en alguna de las temáticas que aparecen no dudes en venir, es totalmente gratuito gracias al patrocinio de @TheBridge_Tech y la colaboración de @epsUPO @pablodeolavide \\n(+ info abajo) https://t.co/JF85MDGmXc</td>\n",
       "      <td>2023-03-06 10:38:30+00:00</td>\n",
       "      <td>1585726199485140993</td>\n",
       "      <td>ESOLIUPO</td>\n",
       "      <td>Asociación de Estudiantes de Software Libre UPO</td>\n",
       "      <td>3</td>\n",
       "      <td>1</td>\n",
       "      <td>5</td>\n",
       "      <td>1</td>\n",
       "      <td>10</td>\n",
       "      <td>2023-03</td>\n",
       "    </tr>\n",
       "    <tr>\n",
       "      <th>4</th>\n",
       "      <td>1632664546665025536</td>\n",
       "      <td>Encuentro de la @mlopscommunity en Madrid: \"MLOPs: desde las trincheras\" https://t.co/CHojEAs7ij en @TheBridge_Tech Ven a conocer la práctica #MLOps en Correcto., @Busuu @wallapop https://t.co/odie5CAuHU</td>\n",
       "      <td>2023-03-06 08:48:56+00:00</td>\n",
       "      <td>41545659</td>\n",
       "      <td>nodosenlared</td>\n",
       "      <td>Mario Lopez de Avila</td>\n",
       "      <td>1</td>\n",
       "      <td>0</td>\n",
       "      <td>3</td>\n",
       "      <td>0</td>\n",
       "      <td>4</td>\n",
       "      <td>2023-03</td>\n",
       "    </tr>\n",
       "    <tr>\n",
       "      <th>...</th>\n",
       "      <td>...</td>\n",
       "      <td>...</td>\n",
       "      <td>...</td>\n",
       "      <td>...</td>\n",
       "      <td>...</td>\n",
       "      <td>...</td>\n",
       "      <td>...</td>\n",
       "      <td>...</td>\n",
       "      <td>...</td>\n",
       "      <td>...</td>\n",
       "      <td>...</td>\n",
       "      <td>...</td>\n",
       "    </tr>\n",
       "    <tr>\n",
       "      <th>170</th>\n",
       "      <td>1595359906747617280</td>\n",
       "      <td>¡Ven a conocer los BBK bootcamps powered by @TheBridge_Tech! @BBK_eus \\n\\nPróximo Open Day🤗\\n📅1 dic\\n⏰18.30\\n📍 @BBK_Kuna, Urazurrutia Kalea 3, Bilbao\\n\\n¡Lánzate a por una carrera digital!\\n \\n🎟Entradas https://t.co/NBgXWjSYcE\\n\\n#uxui #ciber #desarrollowebfullstack #datascience https://t.co/KFsgFfom5B</td>\n",
       "      <td>2022-11-23 10:13:36+00:00</td>\n",
       "      <td>1162694149956603904</td>\n",
       "      <td>TheBridge_Tech</td>\n",
       "      <td>The Bridge</td>\n",
       "      <td>4</td>\n",
       "      <td>0</td>\n",
       "      <td>3</td>\n",
       "      <td>0</td>\n",
       "      <td>7</td>\n",
       "      <td>2022-11</td>\n",
       "    </tr>\n",
       "    <tr>\n",
       "      <th>171</th>\n",
       "      <td>1594975696614526979</td>\n",
       "      <td>@HoplaSoftware Deseando teneros @HoplaSoftware en nuestro #RecruitersCorner hablando de #cloud y #talentodigital 🙌</td>\n",
       "      <td>2022-11-22 08:46:53+00:00</td>\n",
       "      <td>1162694149956603904</td>\n",
       "      <td>TheBridge_Tech</td>\n",
       "      <td>The Bridge</td>\n",
       "      <td>0</td>\n",
       "      <td>0</td>\n",
       "      <td>1</td>\n",
       "      <td>0</td>\n",
       "      <td>1</td>\n",
       "      <td>2022-11</td>\n",
       "    </tr>\n",
       "    <tr>\n",
       "      <th>172</th>\n",
       "      <td>1594968601265586178</td>\n",
       "      <td>Acelerando juntos el #talentodigital en España. El próximo 24 de noviembre, nuestro #CEO Juan Zamora presentará Hopla! en las instalaciones de .@TheBridge_Tech a las 17:30h. Contaremos quiénes somos, qué hacemos y cómo desarrollar una #carrerarofesional fructífera con nosotros. https://t.co/Sw9EUswIQ2</td>\n",
       "      <td>2022-11-22 08:18:42+00:00</td>\n",
       "      <td>783248945761910788</td>\n",
       "      <td>HoplaSoftware</td>\n",
       "      <td>Hopla! Software</td>\n",
       "      <td>1</td>\n",
       "      <td>1</td>\n",
       "      <td>3</td>\n",
       "      <td>0</td>\n",
       "      <td>5</td>\n",
       "      <td>2022-11</td>\n",
       "    </tr>\n",
       "    <tr>\n",
       "      <th>173</th>\n",
       "      <td>1594965197613322241</td>\n",
       "      <td>Ikasi gaur etorkizuneko lanbideak, izena eman #BBKBootcamp -ean ⏩ https://t.co/xvm6ekbcMQ\\n\\n@TheBridge_Tech -ekin batera,  Full Stack Web Garapena, Data Science, Zibersegurtasuna eta UX UI produktu digitalaren diseinuari buruz ikasteko aukera izango duzu. https://t.co/oxEOX35Osa</td>\n",
       "      <td>2022-11-22 08:05:10+00:00</td>\n",
       "      <td>702077405045899264</td>\n",
       "      <td>BBK_eus</td>\n",
       "      <td>Fundación BBK | Obra Social</td>\n",
       "      <td>1</td>\n",
       "      <td>0</td>\n",
       "      <td>2</td>\n",
       "      <td>0</td>\n",
       "      <td>3</td>\n",
       "      <td>2022-11</td>\n",
       "    </tr>\n",
       "    <tr>\n",
       "      <th>174</th>\n",
       "      <td>1594964278238654471</td>\n",
       "      <td>Aprende hoy las profesiones del futuro, ¡inscríbete en el #BBKBootcamp ⏩ https://t.co/uJcCKObkPz\\n\\nJunto con @TheBridge_Tech podrás aprender sobre Desarrollo Web Full Stack, Data Science, Ciberseguridad y Diseño de producto digital UX UI. https://t.co/wdbmRphsAx</td>\n",
       "      <td>2022-11-22 08:01:31+00:00</td>\n",
       "      <td>702077405045899264</td>\n",
       "      <td>BBK_eus</td>\n",
       "      <td>Fundación BBK | Obra Social</td>\n",
       "      <td>2</td>\n",
       "      <td>0</td>\n",
       "      <td>2</td>\n",
       "      <td>0</td>\n",
       "      <td>4</td>\n",
       "      <td>2022-11</td>\n",
       "    </tr>\n",
       "  </tbody>\n",
       "</table>\n",
       "<p>175 rows × 12 columns</p>\n",
       "</div>"
      ],
      "text/plain": [
       "                      id  \\\n",
       "0    1632767114380492803   \n",
       "1    1632746286133702658   \n",
       "2    1632692123412594688   \n",
       "3    1632692120719859712   \n",
       "4    1632664546665025536   \n",
       "..                   ...   \n",
       "170  1595359906747617280   \n",
       "171  1594975696614526979   \n",
       "172  1594968601265586178   \n",
       "173  1594965197613322241   \n",
       "174  1594964278238654471   \n",
       "\n",
       "                                                                                                                                                                                                                                                                                                               content  \\\n",
       "0                                                            ¡Evento #desarrolloweb en #Sevilla con Diego Freniche Brito, Developer Advocate en @MongoDB!\\n\\nCambiamos de ubicación ¡Te esperamos en @espacio_RES!\\n\\n📅16 marzo\\n⏰18 h\\n📍En @espacio_RES \\n\\nEntradas 👉https://t.co/MJ21xSfIX0 https://t.co/bYJuYAaZ6N   \n",
       "1                                                                                                                                                    ¡Súper contentos de participar! Las temáticas prometen, sin duda 🤩 ¡No te lo pierdas! \\n\\n📍Universidad @pablodeolavide Sevilla\\n🎟Entradas https://t.co/jFvxqPvKTO   \n",
       "2                                                                                                                                                       Las inscripciones se realizarán por Eventbrite. Cualquier duda estamos por MD o al correo info@esoliupo.es\\nhttps://t.co/xhVr7VXcF3\\n\\n@epsUPO @TheBridge_Tech   \n",
       "3    ¡Por fin podemos publicar el cartel con los ponentes para el #cybersecTalks! Si estás interesadx en alguna de las temáticas que aparecen no dudes en venir, es totalmente gratuito gracias al patrocinio de @TheBridge_Tech y la colaboración de @epsUPO @pablodeolavide \\n(+ info abajo) https://t.co/JF85MDGmXc   \n",
       "4                                                                                                          Encuentro de la @mlopscommunity en Madrid: \"MLOPs: desde las trincheras\" https://t.co/CHojEAs7ij en @TheBridge_Tech Ven a conocer la práctica #MLOps en Correcto., @Busuu @wallapop https://t.co/odie5CAuHU   \n",
       "..                                                                                                                                                                                                                                                                                                                 ...   \n",
       "170    ¡Ven a conocer los BBK bootcamps powered by @TheBridge_Tech! @BBK_eus \\n\\nPróximo Open Day🤗\\n📅1 dic\\n⏰18.30\\n📍 @BBK_Kuna, Urazurrutia Kalea 3, Bilbao\\n\\n¡Lánzate a por una carrera digital!\\n \\n🎟Entradas https://t.co/NBgXWjSYcE\\n\\n#uxui #ciber #desarrollowebfullstack #datascience https://t.co/KFsgFfom5B   \n",
       "171                                                                                                                                                                                                 @HoplaSoftware Deseando teneros @HoplaSoftware en nuestro #RecruitersCorner hablando de #cloud y #talentodigital 🙌   \n",
       "172     Acelerando juntos el #talentodigital en España. El próximo 24 de noviembre, nuestro #CEO Juan Zamora presentará Hopla! en las instalaciones de .@TheBridge_Tech a las 17:30h. Contaremos quiénes somos, qué hacemos y cómo desarrollar una #carrerarofesional fructífera con nosotros. https://t.co/Sw9EUswIQ2   \n",
       "173                           Ikasi gaur etorkizuneko lanbideak, izena eman #BBKBootcamp -ean ⏩ https://t.co/xvm6ekbcMQ\\n\\n@TheBridge_Tech -ekin batera,  Full Stack Web Garapena, Data Science, Zibersegurtasuna eta UX UI produktu digitalaren diseinuari buruz ikasteko aukera izango duzu. https://t.co/oxEOX35Osa   \n",
       "174                                            Aprende hoy las profesiones del futuro, ¡inscríbete en el #BBKBootcamp ⏩ https://t.co/uJcCKObkPz\\n\\nJunto con @TheBridge_Tech podrás aprender sobre Desarrollo Web Full Stack, Data Science, Ciberseguridad y Diseño de producto digital UX UI. https://t.co/wdbmRphsAx   \n",
       "\n",
       "                          date              user_id   user_username  \\\n",
       "0    2023-03-06 15:36:30+00:00  1162694149956603904  TheBridge_Tech   \n",
       "1    2023-03-06 14:13:44+00:00  1162694149956603904  TheBridge_Tech   \n",
       "2    2023-03-06 10:38:30+00:00  1585726199485140993        ESOLIUPO   \n",
       "3    2023-03-06 10:38:30+00:00  1585726199485140993        ESOLIUPO   \n",
       "4    2023-03-06 08:48:56+00:00             41545659    nodosenlared   \n",
       "..                         ...                  ...             ...   \n",
       "170  2022-11-23 10:13:36+00:00  1162694149956603904  TheBridge_Tech   \n",
       "171  2022-11-22 08:46:53+00:00  1162694149956603904  TheBridge_Tech   \n",
       "172  2022-11-22 08:18:42+00:00   783248945761910788   HoplaSoftware   \n",
       "173  2022-11-22 08:05:10+00:00   702077405045899264         BBK_eus   \n",
       "174  2022-11-22 08:01:31+00:00   702077405045899264         BBK_eus   \n",
       "\n",
       "                                    user_displayname  retweetCount  \\\n",
       "0                                         The Bridge             3   \n",
       "1                                         The Bridge             1   \n",
       "2    Asociación de Estudiantes de Software Libre UPO             0   \n",
       "3    Asociación de Estudiantes de Software Libre UPO             3   \n",
       "4                               Mario Lopez de Avila             1   \n",
       "..                                               ...           ...   \n",
       "170                                       The Bridge             4   \n",
       "171                                       The Bridge             0   \n",
       "172                                  Hopla! Software             1   \n",
       "173                      Fundación BBK | Obra Social             1   \n",
       "174                      Fundación BBK | Obra Social             2   \n",
       "\n",
       "     replyCount  likeCount  quoteCount  totalInteracciones      mes  \n",
       "0             0          4           0                   7  2023-03  \n",
       "1             0          1           0                   2  2023-03  \n",
       "2             0          0           0                   0  2023-03  \n",
       "3             1          5           1                  10  2023-03  \n",
       "4             0          3           0                   4  2023-03  \n",
       "..          ...        ...         ...                 ...      ...  \n",
       "170           0          3           0                   7  2022-11  \n",
       "171           0          1           0                   1  2022-11  \n",
       "172           1          3           0                   5  2022-11  \n",
       "173           0          2           0                   3  2022-11  \n",
       "174           0          2           0                   4  2022-11  \n",
       "\n",
       "[175 rows x 12 columns]"
      ]
     },
     "execution_count": 109,
     "metadata": {},
     "output_type": "execute_result"
    }
   ],
   "source": [
    "df"
   ]
  },
  {
   "attachments": {},
   "cell_type": "markdown",
   "metadata": {},
   "source": [
    "## Limpieza de datos"
   ]
  },
  {
   "cell_type": "code",
   "execution_count": null,
   "metadata": {},
   "outputs": [],
   "source": [
    "# Definición de diccionario que contiene los emojis más comunes con sus significados.\n",
    "\n",
    "emojis = {':)': 'smile', ':-)': 'smile', ';d': 'wink', ':-E': 'vampire', ':(': 'sad', \n",
    "          ':-(': 'sad', ':-<': 'sad', ':P': 'raspberry', ':O': 'surprised',\n",
    "          ':-@': 'shocked', ':@': 'shocked',':-$': 'confused', ':\\\\': 'annoyed', \n",
    "          ':#': 'mute', ':X': 'mute', ':^)': 'smile', ':-&': 'confused', '$_$': 'greedy',\n",
    "          '@@': 'eyeroll', ':-!': 'confused', ':-D': 'smile', ':-0': 'yell', 'O.o': 'confused',\n",
    "          '<(-_-)>': 'robot', 'd[-_-]b': 'dj', \":'-)\": 'sadsmile', ';)': 'wink', \n",
    "          ';-)': 'wink', 'O:-)': 'angel','O*-)': 'angel','(:-D': 'gossip', '=^.^=': 'cat'}"
   ]
  },
  {
   "attachments": {},
   "cell_type": "markdown",
   "metadata": {},
   "source": [
    "- Descargamos los stopwords de la librería **nltk**"
   ]
  },
  {
   "cell_type": "code",
   "execution_count": 78,
   "metadata": {},
   "outputs": [
    {
     "name": "stderr",
     "output_type": "stream",
     "text": [
      "[nltk_data] Downloading package stopwords to\n",
      "[nltk_data]     C:\\Users\\Leandro\\AppData\\Roaming\\nltk_data...\n",
      "[nltk_data]   Unzipping corpora\\stopwords.zip.\n"
     ]
    },
    {
     "data": {
      "text/plain": [
       "True"
      ]
     },
     "execution_count": 78,
     "metadata": {},
     "output_type": "execute_result"
    }
   ],
   "source": [
    "nltk.download('stopwords')"
   ]
  },
  {
   "attachments": {},
   "cell_type": "markdown",
   "metadata": {},
   "source": [
    "- Eliminamos los signos de puntuación:"
   ]
  },
  {
   "cell_type": "code",
   "execution_count": 90,
   "metadata": {},
   "outputs": [],
   "source": [
    "signos = re.compile(\"(\\.)|(\\;)|(\\:)|(\\!)|(\\¡)|(\\?)|(\\#)|(\\¿)|(\\@)|(\\,)|(\\\")|(\\()|(\\))|(\\[)|(\\])|(\\d+)\")"
   ]
  },
  {
   "cell_type": "code",
   "execution_count": 91,
   "metadata": {},
   "outputs": [
    {
     "data": {
      "text/plain": [
       "0    evento desarrolloweb en sevilla con diego fren...\n",
       "1    súper contentos de participar las temáticas pr...\n",
       "2    las inscripciones se realizarán por eventbrite...\n",
       "3    por fin podemos publicar el cartel con los pon...\n",
       "4    encuentro de la mlopscommunity en madrid mlops...\n",
       "Name: content, dtype: object"
      ]
     },
     "execution_count": 91,
     "metadata": {},
     "output_type": "execute_result"
    }
   ],
   "source": [
    "def signs_tweets(tweet):\n",
    "    return signos.sub('', tweet.lower())\n",
    "\n",
    "df['content'] = df['content'].apply(signs_tweets)\n",
    "df['content'].head()"
   ]
  },
  {
   "attachments": {},
   "cell_type": "markdown",
   "metadata": {},
   "source": [
    "- Eliminar links:"
   ]
  },
  {
   "cell_type": "code",
   "execution_count": 92,
   "metadata": {},
   "outputs": [],
   "source": [
    "def remove_links(df):\n",
    "    return \" \".join(['{link}' if ('http') in word else word for word in df.split()])\n",
    "\n",
    "df['content'] = df['content'].apply(remove_links)"
   ]
  },
  {
   "cell_type": "code",
   "execution_count": null,
   "metadata": {},
   "outputs": [],
   "source": []
  },
  {
   "cell_type": "code",
   "execution_count": null,
   "metadata": {},
   "outputs": [],
   "source": []
  },
  {
   "cell_type": "code",
   "execution_count": 79,
   "metadata": {},
   "outputs": [],
   "source": [
    "\n",
    "stop_words = stopwords.words('spanish')"
   ]
  },
  {
   "cell_type": "code",
   "execution_count": 84,
   "metadata": {},
   "outputs": [
    {
     "name": "stdout",
     "output_type": "stream",
     "text": [
      "['de', 'la', 'que', 'el', 'en', 'y', 'a', 'los', 'del', 'se', 'las', 'por', 'un', 'para', 'con', 'no', 'una', 'su', 'al', 'lo', 'como', 'más', 'pero', 'sus', 'le', 'ya', 'o', 'este', 'sí', 'porque', 'esta', 'entre', 'cuando', 'muy', 'sin', 'sobre', 'también', 'me', 'hasta', 'hay', 'donde', 'quien', 'desde', 'todo', 'nos', 'durante', 'todos', 'uno', 'les', 'ni', 'contra', 'otros', 'ese', 'eso', 'ante', 'ellos', 'e', 'esto', 'mí', 'antes', 'algunos', 'qué', 'unos', 'yo', 'otro', 'otras', 'otra', 'él', 'tanto', 'esa', 'estos', 'mucho', 'quienes', 'nada', 'muchos', 'cual', 'poco', 'ella', 'estar', 'estas', 'algunas', 'algo', 'nosotros', 'mi', 'mis', 'tú', 'te', 'ti', 'tu', 'tus', 'ellas', 'nosotras', 'vosotros', 'vosotras', 'os', 'mío', 'mía', 'míos', 'mías', 'tuyo', 'tuya', 'tuyos', 'tuyas', 'suyo', 'suya', 'suyos', 'suyas', 'nuestro', 'nuestra', 'nuestros', 'nuestras', 'vuestro', 'vuestra', 'vuestros', 'vuestras', 'esos', 'esas', 'estoy', 'estás', 'está', 'estamos', 'estáis', 'están', 'esté', 'estés', 'estemos', 'estéis', 'estén', 'estaré', 'estarás', 'estará', 'estaremos', 'estaréis', 'estarán', 'estaría', 'estarías', 'estaríamos', 'estaríais', 'estarían', 'estaba', 'estabas', 'estábamos', 'estabais', 'estaban', 'estuve', 'estuviste', 'estuvo', 'estuvimos', 'estuvisteis', 'estuvieron', 'estuviera', 'estuvieras', 'estuviéramos', 'estuvierais', 'estuvieran', 'estuviese', 'estuvieses', 'estuviésemos', 'estuvieseis', 'estuviesen', 'estando', 'estado', 'estada', 'estados', 'estadas', 'estad', 'he', 'has', 'ha', 'hemos', 'habéis', 'han', 'haya', 'hayas', 'hayamos', 'hayáis', 'hayan', 'habré', 'habrás', 'habrá', 'habremos', 'habréis', 'habrán', 'habría', 'habrías', 'habríamos', 'habríais', 'habrían', 'había', 'habías', 'habíamos', 'habíais', 'habían', 'hube', 'hubiste', 'hubo', 'hubimos', 'hubisteis', 'hubieron', 'hubiera', 'hubieras', 'hubiéramos', 'hubierais', 'hubieran', 'hubiese', 'hubieses', 'hubiésemos', 'hubieseis', 'hubiesen', 'habiendo', 'habido', 'habida', 'habidos', 'habidas', 'soy', 'eres', 'es', 'somos', 'sois', 'son', 'sea', 'seas', 'seamos', 'seáis', 'sean', 'seré', 'serás', 'será', 'seremos', 'seréis', 'serán', 'sería', 'serías', 'seríamos', 'seríais', 'serían', 'era', 'eras', 'éramos', 'erais', 'eran', 'fui', 'fuiste', 'fue', 'fuimos', 'fuisteis', 'fueron', 'fuera', 'fueras', 'fuéramos', 'fuerais', 'fueran', 'fuese', 'fueses', 'fuésemos', 'fueseis', 'fuesen', 'sintiendo', 'sentido', 'sentida', 'sentidos', 'sentidas', 'siente', 'sentid', 'tengo', 'tienes', 'tiene', 'tenemos', 'tenéis', 'tienen', 'tenga', 'tengas', 'tengamos', 'tengáis', 'tengan', 'tendré', 'tendrás', 'tendrá', 'tendremos', 'tendréis', 'tendrán', 'tendría', 'tendrías', 'tendríamos', 'tendríais', 'tendrían', 'tenía', 'tenías', 'teníamos', 'teníais', 'tenían', 'tuve', 'tuviste', 'tuvo', 'tuvimos', 'tuvisteis', 'tuvieron', 'tuviera', 'tuvieras', 'tuviéramos', 'tuvierais', 'tuvieran', 'tuviese', 'tuvieses', 'tuviésemos', 'tuvieseis', 'tuviesen', 'teniendo', 'tenido', 'tenida', 'tenidos', 'tenidas', 'tened']\n"
     ]
    }
   ],
   "source": [
    "print(stop_words)"
   ]
  },
  {
   "attachments": {},
   "cell_type": "markdown",
   "metadata": {},
   "source": [
    "Utilizando el método `stem()` de la clase **SnowballStemmer** para obtener la forma base de una palabra en español."
   ]
  },
  {
   "cell_type": "code",
   "execution_count": null,
   "metadata": {},
   "outputs": [],
   "source": [
    "# Instanciar el stemmer para español\n",
    "stemmer = SnowballStemmer('spanish')\n",
    "\n",
    "# Definir una función para lematizar todo el texto\n",
    "def lemmatize_text(text):\n",
    "    return ' '.join([stemmer.stem(word) for word in text.split()])\n",
    "\n",
    "# Aplicar la lematización a la columna 'texto'\n",
    "df['texto_lemmatizado'] = df['content'].apply(lemmatize_text)"
   ]
  },
  {
   "cell_type": "code",
   "execution_count": null,
   "metadata": {},
   "outputs": [],
   "source": []
  },
  {
   "cell_type": "code",
   "execution_count": null,
   "metadata": {},
   "outputs": [],
   "source": []
  },
  {
   "cell_type": "code",
   "execution_count": 69,
   "metadata": {},
   "outputs": [],
   "source": [
    "df[\"idioma\"] = df[\"content\"].apply(lambda x: detect(x))"
   ]
  },
  {
   "cell_type": "code",
   "execution_count": 70,
   "metadata": {},
   "outputs": [
    {
     "data": {
      "text/html": [
       "<div>\n",
       "<style scoped>\n",
       "    .dataframe tbody tr th:only-of-type {\n",
       "        vertical-align: middle;\n",
       "    }\n",
       "\n",
       "    .dataframe tbody tr th {\n",
       "        vertical-align: top;\n",
       "    }\n",
       "\n",
       "    .dataframe thead th {\n",
       "        text-align: right;\n",
       "    }\n",
       "</style>\n",
       "<table border=\"1\" class=\"dataframe\">\n",
       "  <thead>\n",
       "    <tr style=\"text-align: right;\">\n",
       "      <th></th>\n",
       "      <th>id</th>\n",
       "      <th>content</th>\n",
       "      <th>date</th>\n",
       "      <th>user_id</th>\n",
       "      <th>user_username</th>\n",
       "      <th>user_displayname</th>\n",
       "      <th>retweetCount</th>\n",
       "      <th>replyCount</th>\n",
       "      <th>likeCount</th>\n",
       "      <th>quoteCount</th>\n",
       "      <th>idioma</th>\n",
       "    </tr>\n",
       "  </thead>\n",
       "  <tbody>\n",
       "    <tr>\n",
       "      <th>0</th>\n",
       "      <td>1632767114380492803</td>\n",
       "      <td>¡Evento #desarrolloweb en #Sevilla con Diego F...</td>\n",
       "      <td>2023-03-06 15:36:30+00:00</td>\n",
       "      <td>1162694149956603904</td>\n",
       "      <td>TheBridge_Tech</td>\n",
       "      <td>The Bridge</td>\n",
       "      <td>3</td>\n",
       "      <td>0</td>\n",
       "      <td>4</td>\n",
       "      <td>0</td>\n",
       "      <td>es</td>\n",
       "    </tr>\n",
       "    <tr>\n",
       "      <th>1</th>\n",
       "      <td>1632746286133702658</td>\n",
       "      <td>¡Súper contentos de participar! Las temáticas ...</td>\n",
       "      <td>2023-03-06 14:13:44+00:00</td>\n",
       "      <td>1162694149956603904</td>\n",
       "      <td>TheBridge_Tech</td>\n",
       "      <td>The Bridge</td>\n",
       "      <td>1</td>\n",
       "      <td>0</td>\n",
       "      <td>1</td>\n",
       "      <td>0</td>\n",
       "      <td>es</td>\n",
       "    </tr>\n",
       "    <tr>\n",
       "      <th>2</th>\n",
       "      <td>1632692123412594688</td>\n",
       "      <td>Las inscripciones se realizarán por Eventbrite...</td>\n",
       "      <td>2023-03-06 10:38:30+00:00</td>\n",
       "      <td>1585726199485140993</td>\n",
       "      <td>ESOLIUPO</td>\n",
       "      <td>Asociación de Estudiantes de Software Libre UPO</td>\n",
       "      <td>0</td>\n",
       "      <td>0</td>\n",
       "      <td>0</td>\n",
       "      <td>0</td>\n",
       "      <td>es</td>\n",
       "    </tr>\n",
       "    <tr>\n",
       "      <th>3</th>\n",
       "      <td>1632692120719859712</td>\n",
       "      <td>¡Por fin podemos publicar el cartel con los po...</td>\n",
       "      <td>2023-03-06 10:38:30+00:00</td>\n",
       "      <td>1585726199485140993</td>\n",
       "      <td>ESOLIUPO</td>\n",
       "      <td>Asociación de Estudiantes de Software Libre UPO</td>\n",
       "      <td>3</td>\n",
       "      <td>1</td>\n",
       "      <td>5</td>\n",
       "      <td>1</td>\n",
       "      <td>es</td>\n",
       "    </tr>\n",
       "    <tr>\n",
       "      <th>4</th>\n",
       "      <td>1632664546665025536</td>\n",
       "      <td>Encuentro de la @mlopscommunity en Madrid: \"ML...</td>\n",
       "      <td>2023-03-06 08:48:56+00:00</td>\n",
       "      <td>41545659</td>\n",
       "      <td>nodosenlared</td>\n",
       "      <td>Mario Lopez de Avila</td>\n",
       "      <td>1</td>\n",
       "      <td>0</td>\n",
       "      <td>3</td>\n",
       "      <td>0</td>\n",
       "      <td>es</td>\n",
       "    </tr>\n",
       "    <tr>\n",
       "      <th>...</th>\n",
       "      <td>...</td>\n",
       "      <td>...</td>\n",
       "      <td>...</td>\n",
       "      <td>...</td>\n",
       "      <td>...</td>\n",
       "      <td>...</td>\n",
       "      <td>...</td>\n",
       "      <td>...</td>\n",
       "      <td>...</td>\n",
       "      <td>...</td>\n",
       "      <td>...</td>\n",
       "    </tr>\n",
       "    <tr>\n",
       "      <th>170</th>\n",
       "      <td>1595359906747617280</td>\n",
       "      <td>¡Ven a conocer los BBK bootcamps powered by @T...</td>\n",
       "      <td>2022-11-23 10:13:36+00:00</td>\n",
       "      <td>1162694149956603904</td>\n",
       "      <td>TheBridge_Tech</td>\n",
       "      <td>The Bridge</td>\n",
       "      <td>4</td>\n",
       "      <td>0</td>\n",
       "      <td>3</td>\n",
       "      <td>0</td>\n",
       "      <td>es</td>\n",
       "    </tr>\n",
       "    <tr>\n",
       "      <th>171</th>\n",
       "      <td>1594975696614526979</td>\n",
       "      <td>@HoplaSoftware Deseando teneros @HoplaSoftware...</td>\n",
       "      <td>2022-11-22 08:46:53+00:00</td>\n",
       "      <td>1162694149956603904</td>\n",
       "      <td>TheBridge_Tech</td>\n",
       "      <td>The Bridge</td>\n",
       "      <td>0</td>\n",
       "      <td>0</td>\n",
       "      <td>1</td>\n",
       "      <td>0</td>\n",
       "      <td>es</td>\n",
       "    </tr>\n",
       "    <tr>\n",
       "      <th>172</th>\n",
       "      <td>1594968601265586178</td>\n",
       "      <td>Acelerando juntos el #talentodigital en España...</td>\n",
       "      <td>2022-11-22 08:18:42+00:00</td>\n",
       "      <td>783248945761910788</td>\n",
       "      <td>HoplaSoftware</td>\n",
       "      <td>Hopla! Software</td>\n",
       "      <td>1</td>\n",
       "      <td>1</td>\n",
       "      <td>3</td>\n",
       "      <td>0</td>\n",
       "      <td>es</td>\n",
       "    </tr>\n",
       "    <tr>\n",
       "      <th>173</th>\n",
       "      <td>1594965197613322241</td>\n",
       "      <td>Ikasi gaur etorkizuneko lanbideak, izena eman ...</td>\n",
       "      <td>2022-11-22 08:05:10+00:00</td>\n",
       "      <td>702077405045899264</td>\n",
       "      <td>BBK_eus</td>\n",
       "      <td>Fundación BBK | Obra Social</td>\n",
       "      <td>1</td>\n",
       "      <td>0</td>\n",
       "      <td>2</td>\n",
       "      <td>0</td>\n",
       "      <td>id</td>\n",
       "    </tr>\n",
       "    <tr>\n",
       "      <th>174</th>\n",
       "      <td>1594964278238654471</td>\n",
       "      <td>Aprende hoy las profesiones del futuro, ¡inscr...</td>\n",
       "      <td>2022-11-22 08:01:31+00:00</td>\n",
       "      <td>702077405045899264</td>\n",
       "      <td>BBK_eus</td>\n",
       "      <td>Fundación BBK | Obra Social</td>\n",
       "      <td>2</td>\n",
       "      <td>0</td>\n",
       "      <td>2</td>\n",
       "      <td>0</td>\n",
       "      <td>es</td>\n",
       "    </tr>\n",
       "  </tbody>\n",
       "</table>\n",
       "<p>175 rows × 11 columns</p>\n",
       "</div>"
      ],
      "text/plain": [
       "                      id                                            content  \\\n",
       "0    1632767114380492803  ¡Evento #desarrolloweb en #Sevilla con Diego F...   \n",
       "1    1632746286133702658  ¡Súper contentos de participar! Las temáticas ...   \n",
       "2    1632692123412594688  Las inscripciones se realizarán por Eventbrite...   \n",
       "3    1632692120719859712  ¡Por fin podemos publicar el cartel con los po...   \n",
       "4    1632664546665025536  Encuentro de la @mlopscommunity en Madrid: \"ML...   \n",
       "..                   ...                                                ...   \n",
       "170  1595359906747617280  ¡Ven a conocer los BBK bootcamps powered by @T...   \n",
       "171  1594975696614526979  @HoplaSoftware Deseando teneros @HoplaSoftware...   \n",
       "172  1594968601265586178  Acelerando juntos el #talentodigital en España...   \n",
       "173  1594965197613322241  Ikasi gaur etorkizuneko lanbideak, izena eman ...   \n",
       "174  1594964278238654471  Aprende hoy las profesiones del futuro, ¡inscr...   \n",
       "\n",
       "                         date              user_id   user_username  \\\n",
       "0   2023-03-06 15:36:30+00:00  1162694149956603904  TheBridge_Tech   \n",
       "1   2023-03-06 14:13:44+00:00  1162694149956603904  TheBridge_Tech   \n",
       "2   2023-03-06 10:38:30+00:00  1585726199485140993        ESOLIUPO   \n",
       "3   2023-03-06 10:38:30+00:00  1585726199485140993        ESOLIUPO   \n",
       "4   2023-03-06 08:48:56+00:00             41545659    nodosenlared   \n",
       "..                        ...                  ...             ...   \n",
       "170 2022-11-23 10:13:36+00:00  1162694149956603904  TheBridge_Tech   \n",
       "171 2022-11-22 08:46:53+00:00  1162694149956603904  TheBridge_Tech   \n",
       "172 2022-11-22 08:18:42+00:00   783248945761910788   HoplaSoftware   \n",
       "173 2022-11-22 08:05:10+00:00   702077405045899264         BBK_eus   \n",
       "174 2022-11-22 08:01:31+00:00   702077405045899264         BBK_eus   \n",
       "\n",
       "                                    user_displayname  retweetCount  \\\n",
       "0                                         The Bridge             3   \n",
       "1                                         The Bridge             1   \n",
       "2    Asociación de Estudiantes de Software Libre UPO             0   \n",
       "3    Asociación de Estudiantes de Software Libre UPO             3   \n",
       "4                               Mario Lopez de Avila             1   \n",
       "..                                               ...           ...   \n",
       "170                                       The Bridge             4   \n",
       "171                                       The Bridge             0   \n",
       "172                                  Hopla! Software             1   \n",
       "173                      Fundación BBK | Obra Social             1   \n",
       "174                      Fundación BBK | Obra Social             2   \n",
       "\n",
       "     replyCount  likeCount  quoteCount idioma  \n",
       "0             0          4           0     es  \n",
       "1             0          1           0     es  \n",
       "2             0          0           0     es  \n",
       "3             1          5           1     es  \n",
       "4             0          3           0     es  \n",
       "..          ...        ...         ...    ...  \n",
       "170           0          3           0     es  \n",
       "171           0          1           0     es  \n",
       "172           1          3           0     es  \n",
       "173           0          2           0     id  \n",
       "174           0          2           0     es  \n",
       "\n",
       "[175 rows x 11 columns]"
      ]
     },
     "execution_count": 70,
     "metadata": {},
     "output_type": "execute_result"
    }
   ],
   "source": [
    "df"
   ]
  },
  {
   "cell_type": "code",
   "execution_count": 72,
   "metadata": {},
   "outputs": [
    {
     "data": {
      "image/png": "[encoded data removed]",
      "text/plain": [
       "<Figure size 640x480 with 1 Axes>"
      ]
     },
     "metadata": {},
     "output_type": "display_data"
    }
   ],
   "source": [
    "sns.countplot(x=\"idioma\", data=df);"
   ]
  },
  {
   "attachments": {},
   "cell_type": "markdown",
   "metadata": {},
   "source": [
    "Según la librería, tenemos la gran mayoría de tweets en español, el siguiente más utilizado sería en inglés, y luego detecta \"nl\" e \"id\", que son holandes e indonesio respectivamente, pero voy a revisar si es así o no, ya que me suena a que realmente es Euskera:"
   ]
  },
  {
   "cell_type": "code",
   "execution_count": 75,
   "metadata": {},
   "outputs": [
    {
     "data": {
      "text/html": [
       "<div>\n",
       "<style scoped>\n",
       "    .dataframe tbody tr th:only-of-type {\n",
       "        vertical-align: middle;\n",
       "    }\n",
       "\n",
       "    .dataframe tbody tr th {\n",
       "        vertical-align: top;\n",
       "    }\n",
       "\n",
       "    .dataframe thead th {\n",
       "        text-align: right;\n",
       "    }\n",
       "</style>\n",
       "<table border=\"1\" class=\"dataframe\">\n",
       "  <thead>\n",
       "    <tr style=\"text-align: right;\">\n",
       "      <th></th>\n",
       "      <th>id</th>\n",
       "      <th>content</th>\n",
       "      <th>date</th>\n",
       "      <th>user_id</th>\n",
       "      <th>user_username</th>\n",
       "      <th>user_displayname</th>\n",
       "      <th>retweetCount</th>\n",
       "      <th>replyCount</th>\n",
       "      <th>likeCount</th>\n",
       "      <th>quoteCount</th>\n",
       "      <th>idioma</th>\n",
       "    </tr>\n",
       "  </thead>\n",
       "  <tbody>\n",
       "    <tr>\n",
       "      <th>80</th>\n",
       "      <td>1615772633773256706</td>\n",
       "      <td>En plena meet-up de CPS en @TheBridge_Tech con...</td>\n",
       "      <td>2023-01-18 18:06:30+00:00</td>\n",
       "      <td>7154412</td>\n",
       "      <td>Recuenco</td>\n",
       "      <td>Javier G. Recuenco</td>\n",
       "      <td>5</td>\n",
       "      <td>2</td>\n",
       "      <td>35</td>\n",
       "      <td>1</td>\n",
       "      <td>nl</td>\n",
       "    </tr>\n",
       "    <tr>\n",
       "      <th>138</th>\n",
       "      <td>1598346448138956801</td>\n",
       "      <td>🔙 Atzo oso jardunaldi interesgarria izan genue...</td>\n",
       "      <td>2022-12-01 16:01:03+00:00</td>\n",
       "      <td>702077405045899264</td>\n",
       "      <td>BBK_eus</td>\n",
       "      <td>Fundación BBK | Obra Social</td>\n",
       "      <td>0</td>\n",
       "      <td>0</td>\n",
       "      <td>0</td>\n",
       "      <td>0</td>\n",
       "      <td>nl</td>\n",
       "    </tr>\n",
       "    <tr>\n",
       "      <th>159</th>\n",
       "      <td>1597869451222913027</td>\n",
       "      <td>☕️🥐 Jardunaldia enpresentzako gosariarekin has...</td>\n",
       "      <td>2022-11-30 08:25:38+00:00</td>\n",
       "      <td>702077405045899264</td>\n",
       "      <td>BBK_eus</td>\n",
       "      <td>Fundación BBK | Obra Social</td>\n",
       "      <td>0</td>\n",
       "      <td>0</td>\n",
       "      <td>2</td>\n",
       "      <td>0</td>\n",
       "      <td>nl</td>\n",
       "    </tr>\n",
       "  </tbody>\n",
       "</table>\n",
       "</div>"
      ],
      "text/plain": [
       "                      id                                            content  \\\n",
       "80   1615772633773256706  En plena meet-up de CPS en @TheBridge_Tech con...   \n",
       "138  1598346448138956801  🔙 Atzo oso jardunaldi interesgarria izan genue...   \n",
       "159  1597869451222913027  ☕️🥐 Jardunaldia enpresentzako gosariarekin has...   \n",
       "\n",
       "                         date             user_id user_username  \\\n",
       "80  2023-01-18 18:06:30+00:00             7154412      Recuenco   \n",
       "138 2022-12-01 16:01:03+00:00  702077405045899264       BBK_eus   \n",
       "159 2022-11-30 08:25:38+00:00  702077405045899264       BBK_eus   \n",
       "\n",
       "                user_displayname  retweetCount  replyCount  likeCount  \\\n",
       "80            Javier G. Recuenco             5           2         35   \n",
       "138  Fundación BBK | Obra Social             0           0          0   \n",
       "159  Fundación BBK | Obra Social             0           0          2   \n",
       "\n",
       "     quoteCount idioma  \n",
       "80            1     nl  \n",
       "138           0     nl  \n",
       "159           0     nl  "
      ]
     },
     "execution_count": 75,
     "metadata": {},
     "output_type": "execute_result"
    }
   ],
   "source": [
    "df.loc[df.idioma == 'nl']"
   ]
  },
  {
   "cell_type": "code",
   "execution_count": 77,
   "metadata": {},
   "outputs": [
    {
     "data": {
      "text/plain": [
       "'En plena meet-up de CPS en @TheBridge_Tech con @ddamasd https://t.co/MkhnOh2Mzw'"
      ]
     },
     "execution_count": 77,
     "metadata": {},
     "output_type": "execute_result"
    }
   ],
   "source": [
    "df.iloc[80].content"
   ]
  },
  {
   "attachments": {},
   "cell_type": "markdown",
   "metadata": {},
   "source": []
  },
  {
   "cell_type": "code",
   "execution_count": null,
   "metadata": {},
   "outputs": [],
   "source": []
  }
 ],
 "metadata": {
  "kernelspec": {
   "display_name": "Python 3",
   "language": "python",
   "name": "python3"
  },
  "language_info": {
   "codemirror_mode": {
    "name": "ipython",
    "version": 3
   },
   "file_extension": ".py",
   "mimetype": "text/x-python",
   "name": "python",
   "nbconvert_exporter": "python",
   "pygments_lexer": "ipython3",
   "version": "3.9.4"
  },
  "orig_nbformat": 4
 },
 "nbformat": 4,
 "nbformat_minor": 2
}
